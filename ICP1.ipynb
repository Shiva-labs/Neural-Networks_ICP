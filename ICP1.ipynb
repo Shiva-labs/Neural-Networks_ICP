{
  "nbformat": 4,
  "nbformat_minor": 0,
  "metadata": {
    "colab": {
      "provenance": [],
      "authorship_tag": "ABX9TyNh9VuvI2ntdQ4ytj44P4RH",
      "include_colab_link": true
    },
    "kernelspec": {
      "name": "python3",
      "display_name": "Python 3"
    },
    "language_info": {
      "name": "python"
    }
  },
  "cells": [
    {
      "cell_type": "markdown",
      "metadata": {
        "id": "view-in-github",
        "colab_type": "text"
      },
      "source": [
        "<a href=\"https://colab.research.google.com/github/Shiva-labs/Neural-Networks_ICP/blob/main/ICP1.ipynb\" target=\"_parent\"><img src=\"https://colab.research.google.com/assets/colab-badge.svg\" alt=\"Open In Colab\"/></a>"
      ]
    },
    {
      "cell_type": "code",
      "execution_count": 11,
      "metadata": {
        "colab": {
          "base_uri": "https://localhost:8080/"
        },
        "id": "U6rCF9ir7JY_",
        "outputId": "1d66595f-41c5-4a99-9492-576093daddb5"
      },
      "outputs": [
        {
          "output_type": "stream",
          "name": "stdout",
          "text": [
            "ntyp\n"
          ]
        }
      ],
      "source": [
        "y = list(\"python\")\n",
        "del y[3:5]\n",
        "y.reverse ()\n",
        "output_string = \"\".join(y)\n",
        "print(output_string)"
      ]
    },
    {
      "cell_type": "code",
      "source": [
        "a = int(input(\"number1 \"))\n",
        "b = int(input(\"number2 \"))\n",
        "print(a+b,' ',a-b,' ',a*b,' ',a/b)"
      ],
      "metadata": {
        "colab": {
          "base_uri": "https://localhost:8080/"
        },
        "id": "CeGXEngo_XtB",
        "outputId": "a3be1b42-aca8-4b45-d567-5f8cdb9b0081"
      },
      "execution_count": 25,
      "outputs": [
        {
          "output_type": "stream",
          "name": "stdout",
          "text": [
            "number1 12\n",
            "number2 6\n",
            "18   6   72   2.0\n"
          ]
        }
      ]
    },
    {
      "cell_type": "code",
      "source": [
        "x = \"I love playing with python\"\n",
        "y = x.replace('python','pythons')\n",
        "print(y)"
      ],
      "metadata": {
        "colab": {
          "base_uri": "https://localhost:8080/"
        },
        "id": "goKR_Kr28ikv",
        "outputId": "6be48701-ff46-47a2-abcd-3479fc1cb540"
      },
      "execution_count": 12,
      "outputs": [
        {
          "output_type": "stream",
          "name": "stdout",
          "text": [
            "I love playing with pythons\n"
          ]
        }
      ]
    },
    {
      "cell_type": "code",
      "source": [
        "score = float(input(\"input score \"))\n",
        "if score>=90:\n",
        "  grade = 'A'\n",
        "elif score >= 80:\n",
        "  grade = 'B'\n",
        "elif score >= 70:\n",
        "  grade = 'C'\n",
        "elif score >= 60:\n",
        "  grade = 'D'\n",
        "elif score < 60:\n",
        "  grade = 'F'\n",
        "print(grade)"
      ],
      "metadata": {
        "colab": {
          "base_uri": "https://localhost:8080/"
        },
        "id": "QHQt81ih9Faf",
        "outputId": "49f72578-db40-4d90-8048-44ddc403ca97"
      },
      "execution_count": 1,
      "outputs": [
        {
          "output_type": "stream",
          "name": "stdout",
          "text": [
            "input score 45\n",
            "F\n"
          ]
        }
      ]
    }
  ]
}